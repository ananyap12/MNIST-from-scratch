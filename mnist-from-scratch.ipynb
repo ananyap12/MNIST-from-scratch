{
 "cells": [
  {
   "cell_type": "code",
   "execution_count": 1,
   "id": "db6bafb3",
   "metadata": {
    "_cell_guid": "b1076dfc-b9ad-4769-8c92-a6c4dae69d19",
    "_uuid": "8f2839f25d086af736a60e9eeb907d3b93b6e0e5",
    "execution": {
     "iopub.execute_input": "2023-11-12T23:57:05.220273Z",
     "iopub.status.busy": "2023-11-12T23:57:05.219900Z",
     "iopub.status.idle": "2023-11-12T23:57:05.520132Z",
     "shell.execute_reply": "2023-11-12T23:57:05.518733Z"
    },
    "papermill": {
     "duration": 0.308053,
     "end_time": "2023-11-12T23:57:05.522618",
     "exception": false,
     "start_time": "2023-11-12T23:57:05.214565",
     "status": "completed"
    },
    "tags": []
   },
   "outputs": [
    {
     "name": "stdout",
     "output_type": "stream",
     "text": [
      "/kaggle/input/digit-recognizer/sample_submission.csv\n",
      "/kaggle/input/digit-recognizer/train.csv\n",
      "/kaggle/input/digit-recognizer/test.csv\n"
     ]
    }
   ],
   "source": [
    "# This Python 3 environment comes with many helpful analytics libraries installed\n",
    "# It is defined by the kaggle/python Docker image: https://github.com/kaggle/docker-python\n",
    "# For example, here's several helpful packages to load\n",
    "\n",
    "import numpy as np # linear algebra\n",
    "import pandas as pd # data processing, CSV file I/O (e.g. pd.read_csv)\n",
    "\n",
    "# Input data files are available in the read-only \"../input/\" directory\n",
    "# For example, running this (by clicking run or pressing Shift+Enter) will list all files under the input directory\n",
    "\n",
    "import os\n",
    "for dirname, _, filenames in os.walk('/kaggle/input'):\n",
    "    for filename in filenames:\n",
    "        print(os.path.join(dirname, filename))\n",
    "\n",
    "# You can write up to 20GB to the current directory (/kaggle/working/) that gets preserved as output when you create a version using \"Save & Run All\" \n",
    "# You can also write temporary files to /kaggle/temp/, but they won't be saved outside of the current session\n",
    "\n",
    "from matplotlib import pyplot as plt"
   ]
  },
  {
   "cell_type": "code",
   "execution_count": 2,
   "id": "16b75f24",
   "metadata": {
    "execution": {
     "iopub.execute_input": "2023-11-12T23:57:05.531180Z",
     "iopub.status.busy": "2023-11-12T23:57:05.530730Z",
     "iopub.status.idle": "2023-11-12T23:57:08.049600Z",
     "shell.execute_reply": "2023-11-12T23:57:08.048575Z"
    },
    "papermill": {
     "duration": 2.525589,
     "end_time": "2023-11-12T23:57:08.051904",
     "exception": false,
     "start_time": "2023-11-12T23:57:05.526315",
     "status": "completed"
    },
    "tags": []
   },
   "outputs": [],
   "source": [
    "data = pd.read_csv('/kaggle/input/digit-recognizer/train.csv')"
   ]
  },
  {
   "cell_type": "code",
   "execution_count": 3,
   "id": "1a483f5a",
   "metadata": {
    "execution": {
     "iopub.execute_input": "2023-11-12T23:57:08.060168Z",
     "iopub.status.busy": "2023-11-12T23:57:08.059799Z",
     "iopub.status.idle": "2023-11-12T23:57:08.091649Z",
     "shell.execute_reply": "2023-11-12T23:57:08.090200Z"
    },
    "papermill": {
     "duration": 0.039107,
     "end_time": "2023-11-12T23:57:08.094349",
     "exception": false,
     "start_time": "2023-11-12T23:57:08.055242",
     "status": "completed"
    },
    "tags": []
   },
   "outputs": [
    {
     "data": {
      "text/html": [
       "<div>\n",
       "<style scoped>\n",
       "    .dataframe tbody tr th:only-of-type {\n",
       "        vertical-align: middle;\n",
       "    }\n",
       "\n",
       "    .dataframe tbody tr th {\n",
       "        vertical-align: top;\n",
       "    }\n",
       "\n",
       "    .dataframe thead th {\n",
       "        text-align: right;\n",
       "    }\n",
       "</style>\n",
       "<table border=\"1\" class=\"dataframe\">\n",
       "  <thead>\n",
       "    <tr style=\"text-align: right;\">\n",
       "      <th></th>\n",
       "      <th>label</th>\n",
       "      <th>pixel0</th>\n",
       "      <th>pixel1</th>\n",
       "      <th>pixel2</th>\n",
       "      <th>pixel3</th>\n",
       "      <th>pixel4</th>\n",
       "      <th>pixel5</th>\n",
       "      <th>pixel6</th>\n",
       "      <th>pixel7</th>\n",
       "      <th>pixel8</th>\n",
       "      <th>...</th>\n",
       "      <th>pixel774</th>\n",
       "      <th>pixel775</th>\n",
       "      <th>pixel776</th>\n",
       "      <th>pixel777</th>\n",
       "      <th>pixel778</th>\n",
       "      <th>pixel779</th>\n",
       "      <th>pixel780</th>\n",
       "      <th>pixel781</th>\n",
       "      <th>pixel782</th>\n",
       "      <th>pixel783</th>\n",
       "    </tr>\n",
       "  </thead>\n",
       "  <tbody>\n",
       "    <tr>\n",
       "      <th>0</th>\n",
       "      <td>1</td>\n",
       "      <td>0</td>\n",
       "      <td>0</td>\n",
       "      <td>0</td>\n",
       "      <td>0</td>\n",
       "      <td>0</td>\n",
       "      <td>0</td>\n",
       "      <td>0</td>\n",
       "      <td>0</td>\n",
       "      <td>0</td>\n",
       "      <td>...</td>\n",
       "      <td>0</td>\n",
       "      <td>0</td>\n",
       "      <td>0</td>\n",
       "      <td>0</td>\n",
       "      <td>0</td>\n",
       "      <td>0</td>\n",
       "      <td>0</td>\n",
       "      <td>0</td>\n",
       "      <td>0</td>\n",
       "      <td>0</td>\n",
       "    </tr>\n",
       "    <tr>\n",
       "      <th>1</th>\n",
       "      <td>0</td>\n",
       "      <td>0</td>\n",
       "      <td>0</td>\n",
       "      <td>0</td>\n",
       "      <td>0</td>\n",
       "      <td>0</td>\n",
       "      <td>0</td>\n",
       "      <td>0</td>\n",
       "      <td>0</td>\n",
       "      <td>0</td>\n",
       "      <td>...</td>\n",
       "      <td>0</td>\n",
       "      <td>0</td>\n",
       "      <td>0</td>\n",
       "      <td>0</td>\n",
       "      <td>0</td>\n",
       "      <td>0</td>\n",
       "      <td>0</td>\n",
       "      <td>0</td>\n",
       "      <td>0</td>\n",
       "      <td>0</td>\n",
       "    </tr>\n",
       "    <tr>\n",
       "      <th>2</th>\n",
       "      <td>1</td>\n",
       "      <td>0</td>\n",
       "      <td>0</td>\n",
       "      <td>0</td>\n",
       "      <td>0</td>\n",
       "      <td>0</td>\n",
       "      <td>0</td>\n",
       "      <td>0</td>\n",
       "      <td>0</td>\n",
       "      <td>0</td>\n",
       "      <td>...</td>\n",
       "      <td>0</td>\n",
       "      <td>0</td>\n",
       "      <td>0</td>\n",
       "      <td>0</td>\n",
       "      <td>0</td>\n",
       "      <td>0</td>\n",
       "      <td>0</td>\n",
       "      <td>0</td>\n",
       "      <td>0</td>\n",
       "      <td>0</td>\n",
       "    </tr>\n",
       "    <tr>\n",
       "      <th>3</th>\n",
       "      <td>4</td>\n",
       "      <td>0</td>\n",
       "      <td>0</td>\n",
       "      <td>0</td>\n",
       "      <td>0</td>\n",
       "      <td>0</td>\n",
       "      <td>0</td>\n",
       "      <td>0</td>\n",
       "      <td>0</td>\n",
       "      <td>0</td>\n",
       "      <td>...</td>\n",
       "      <td>0</td>\n",
       "      <td>0</td>\n",
       "      <td>0</td>\n",
       "      <td>0</td>\n",
       "      <td>0</td>\n",
       "      <td>0</td>\n",
       "      <td>0</td>\n",
       "      <td>0</td>\n",
       "      <td>0</td>\n",
       "      <td>0</td>\n",
       "    </tr>\n",
       "    <tr>\n",
       "      <th>4</th>\n",
       "      <td>0</td>\n",
       "      <td>0</td>\n",
       "      <td>0</td>\n",
       "      <td>0</td>\n",
       "      <td>0</td>\n",
       "      <td>0</td>\n",
       "      <td>0</td>\n",
       "      <td>0</td>\n",
       "      <td>0</td>\n",
       "      <td>0</td>\n",
       "      <td>...</td>\n",
       "      <td>0</td>\n",
       "      <td>0</td>\n",
       "      <td>0</td>\n",
       "      <td>0</td>\n",
       "      <td>0</td>\n",
       "      <td>0</td>\n",
       "      <td>0</td>\n",
       "      <td>0</td>\n",
       "      <td>0</td>\n",
       "      <td>0</td>\n",
       "    </tr>\n",
       "  </tbody>\n",
       "</table>\n",
       "<p>5 rows × 785 columns</p>\n",
       "</div>"
      ],
      "text/plain": [
       "   label  pixel0  pixel1  pixel2  pixel3  pixel4  pixel5  pixel6  pixel7  \\\n",
       "0      1       0       0       0       0       0       0       0       0   \n",
       "1      0       0       0       0       0       0       0       0       0   \n",
       "2      1       0       0       0       0       0       0       0       0   \n",
       "3      4       0       0       0       0       0       0       0       0   \n",
       "4      0       0       0       0       0       0       0       0       0   \n",
       "\n",
       "   pixel8  ...  pixel774  pixel775  pixel776  pixel777  pixel778  pixel779  \\\n",
       "0       0  ...         0         0         0         0         0         0   \n",
       "1       0  ...         0         0         0         0         0         0   \n",
       "2       0  ...         0         0         0         0         0         0   \n",
       "3       0  ...         0         0         0         0         0         0   \n",
       "4       0  ...         0         0         0         0         0         0   \n",
       "\n",
       "   pixel780  pixel781  pixel782  pixel783  \n",
       "0         0         0         0         0  \n",
       "1         0         0         0         0  \n",
       "2         0         0         0         0  \n",
       "3         0         0         0         0  \n",
       "4         0         0         0         0  \n",
       "\n",
       "[5 rows x 785 columns]"
      ]
     },
     "execution_count": 3,
     "metadata": {},
     "output_type": "execute_result"
    }
   ],
   "source": [
    "data.head()"
   ]
  },
  {
   "cell_type": "code",
   "execution_count": 4,
   "id": "8b71db7f",
   "metadata": {
    "execution": {
     "iopub.execute_input": "2023-11-12T23:57:08.102832Z",
     "iopub.status.busy": "2023-11-12T23:57:08.102488Z",
     "iopub.status.idle": "2023-11-12T23:57:08.552875Z",
     "shell.execute_reply": "2023-11-12T23:57:08.551565Z"
    },
    "papermill": {
     "duration": 0.457284,
     "end_time": "2023-11-12T23:57:08.555306",
     "exception": false,
     "start_time": "2023-11-12T23:57:08.098022",
     "status": "completed"
    },
    "tags": []
   },
   "outputs": [],
   "source": [
    "data = np.array(data)\n",
    "m, n = data.shape\n",
    "np.random.shuffle(data)\n",
    "\n",
    "data_dev = data[0:1000].T\n",
    "Y_dev = data_dev[0]\n",
    "X_dev = data_dev[1:n]\n",
    "X_dev = X_dev / 255.\n",
    "\n",
    "data_train = data[1000:m].T\n",
    "Y_train = data_train[0]\n",
    "X_train = data_train[1:n]\n",
    "X_train = X_train / 255.\n",
    "_,m_train = X_train.shape"
   ]
  },
  {
   "cell_type": "code",
   "execution_count": 5,
   "id": "fdffd40d",
   "metadata": {
    "execution": {
     "iopub.execute_input": "2023-11-12T23:57:08.563980Z",
     "iopub.status.busy": "2023-11-12T23:57:08.563587Z",
     "iopub.status.idle": "2023-11-12T23:57:08.570375Z",
     "shell.execute_reply": "2023-11-12T23:57:08.568797Z"
    },
    "papermill": {
     "duration": 0.013829,
     "end_time": "2023-11-12T23:57:08.572726",
     "exception": false,
     "start_time": "2023-11-12T23:57:08.558897",
     "status": "completed"
    },
    "tags": []
   },
   "outputs": [
    {
     "data": {
      "text/plain": [
       "(784,)"
      ]
     },
     "execution_count": 5,
     "metadata": {},
     "output_type": "execute_result"
    }
   ],
   "source": [
    "X_train[:, 0].shape"
   ]
  },
  {
   "cell_type": "code",
   "execution_count": 6,
   "id": "f777ddb7",
   "metadata": {
    "execution": {
     "iopub.execute_input": "2023-11-12T23:57:08.582035Z",
     "iopub.status.busy": "2023-11-12T23:57:08.581685Z",
     "iopub.status.idle": "2023-11-12T23:57:08.591929Z",
     "shell.execute_reply": "2023-11-12T23:57:08.590885Z"
    },
    "papermill": {
     "duration": 0.01721,
     "end_time": "2023-11-12T23:57:08.594118",
     "exception": false,
     "start_time": "2023-11-12T23:57:08.576908",
     "status": "completed"
    },
    "tags": []
   },
   "outputs": [],
   "source": [
    "def init_params():\n",
    "    W1 = np.random.rand(10,784) - 0.5\n",
    "    b1 = np.random.rand(10, 1) - 0.5\n",
    "    W2 = np.random.rand(10,10) - 0.5\n",
    "    b2 = np.random.rand(10, 1) - 0.5\n",
    "    return W1, b1, W2, b2\n",
    "\n",
    "def ReLU(Z):\n",
    "    return np.maximum(Z,0)\n",
    "\n",
    "def softmax(Z):\n",
    "    return np.exp(Z) / sum(np.exp(Z))\n",
    "\n",
    "def forward_prop(W1,b1,W2,b2,X):\n",
    "    Z1 = W1.dot(X) + b1\n",
    "    A1= ReLU(Z1)\n",
    "    Z2 = W2.dot(A1) + b2\n",
    "    A2 = softmax(Z2)\n",
    "    return Z1, A1, Z2, A2\n",
    "\n",
    "def one_hot(Y):\n",
    "    one_hot_Y = np.zeros((Y.size, Y.max() + 1))\n",
    "    one_hot_Y[np.arange(Y.size), Y] = 1\n",
    "    one_hot_Y = one_hot_Y.T\n",
    "    return one_hot_Y\n",
    "    \n",
    "def deriv_ReLU(Z):\n",
    "    return Z > 0\n",
    "    \n",
    "def back_prop(Z1, A1, Z2, A2, W1, W2, X, Y):\n",
    "    one_hot_Y = one_hot(Y)\n",
    "    dZ2 = A2 - one_hot_Y\n",
    "    dW2 = 1/m * dZ2.dot(A1.T)\n",
    "    db2 = 1/m * np.sum(dZ2)\n",
    "    dZ1 = W2.T.dot(dZ2) * deriv_ReLU(Z1)\n",
    "    \n",
    "    dW1 = 1/m * dZ1.dot(X.T)\n",
    "    db1 = 1/m * np.sum(dZ1)\n",
    "    return dW1, db1, dW2, db2\n",
    "\n",
    "def update_params(W1, b1, W2, b2, dW1, db1, dW2, db2, alpha):\n",
    "    W1 = W1 - (alpha*dW1)\n",
    "    b1 = b1 - (alpha*db1)\n",
    "    W2 = W2 - (alpha*dW2)\n",
    "    b2 = b2 - (alpha*db2)\n",
    "    return W1, b1, W2, b2\n",
    "    "
   ]
  },
  {
   "cell_type": "code",
   "execution_count": 7,
   "id": "67fa131c",
   "metadata": {
    "execution": {
     "iopub.execute_input": "2023-11-12T23:57:08.603487Z",
     "iopub.status.busy": "2023-11-12T23:57:08.603026Z",
     "iopub.status.idle": "2023-11-12T23:57:08.610919Z",
     "shell.execute_reply": "2023-11-12T23:57:08.609541Z"
    },
    "papermill": {
     "duration": 0.014581,
     "end_time": "2023-11-12T23:57:08.612915",
     "exception": false,
     "start_time": "2023-11-12T23:57:08.598334",
     "status": "completed"
    },
    "tags": []
   },
   "outputs": [],
   "source": [
    "def get_predictions(A2):\n",
    "    return np.argmax(A2,0)\n",
    "\n",
    "def get_accuracy(predictions,Y):\n",
    "    print(predictions,Y)\n",
    "    return np.sum(predictions == Y) / Y.size\n",
    "\n",
    "def gradient_descent(X, Y, alpha, iterations):\n",
    "    W1, b1, W2, b2 = init_params()\n",
    "    for i in range(iterations):\n",
    "        Z1, A1, Z2, A2 = forward_prop(W1, b1, W2, b2, X)\n",
    "        dW1, db1, dW2, db2 = back_prop(Z1, A1, Z2, A2, W1, W2, X, Y)\n",
    "        W1, b1, W2, b2 = update_params(W1, b1, W2, b2, dW1, db1, dW2, db2, alpha)\n",
    "        if i % 10 == 0:\n",
    "            print(\"Iteration: \" ,i)\n",
    "            print(\"accuracy:\", get_accuracy(get_predictions(A2), Y))\n",
    "        \n",
    "    return W1, b1, W2, b2"
   ]
  },
  {
   "cell_type": "code",
   "execution_count": 8,
   "id": "74e74bda",
   "metadata": {
    "execution": {
     "iopub.execute_input": "2023-11-12T23:57:08.621562Z",
     "iopub.status.busy": "2023-11-12T23:57:08.621183Z",
     "iopub.status.idle": "2023-11-12T23:57:43.677002Z",
     "shell.execute_reply": "2023-11-12T23:57:43.676276Z"
    },
    "papermill": {
     "duration": 35.062319,
     "end_time": "2023-11-12T23:57:43.679003",
     "exception": false,
     "start_time": "2023-11-12T23:57:08.616684",
     "status": "completed"
    },
    "tags": []
   },
   "outputs": [
    {
     "name": "stdout",
     "output_type": "stream",
     "text": [
      "Iteration:  0\n",
      "[4 8 4 ... 4 9 7] [2 8 3 ... 8 5 5]\n",
      "accuracy: 0.11597560975609757\n",
      "Iteration:  10\n",
      "[9 8 9 ... 9 7 7] [2 8 3 ... 8 5 5]\n",
      "accuracy: 0.15390243902439024\n",
      "Iteration:  20\n",
      "[4 9 4 ... 9 9 7] [2 8 3 ... 8 5 5]\n",
      "accuracy: 0.19563414634146342\n",
      "Iteration:  30\n",
      "[1 8 3 ... 9 3 7] [2 8 3 ... 8 5 5]\n",
      "accuracy: 0.2818292682926829\n",
      "Iteration:  40\n",
      "[1 8 3 ... 5 3 7] [2 8 3 ... 8 5 5]\n",
      "accuracy: 0.3455121951219512\n",
      "Iteration:  50\n",
      "[1 8 3 ... 5 3 7] [2 8 3 ... 8 5 5]\n",
      "accuracy: 0.3888048780487805\n",
      "Iteration:  60\n",
      "[1 8 3 ... 5 3 7] [2 8 3 ... 8 5 5]\n",
      "accuracy: 0.445\n",
      "Iteration:  70\n",
      "[1 0 3 ... 5 3 7] [2 8 3 ... 8 5 5]\n",
      "accuracy: 0.5013170731707317\n",
      "Iteration:  80\n",
      "[2 0 3 ... 0 3 7] [2 8 3 ... 8 5 5]\n",
      "accuracy: 0.5458780487804878\n",
      "Iteration:  90\n",
      "[2 0 3 ... 0 3 7] [2 8 3 ... 8 5 5]\n",
      "accuracy: 0.5809268292682926\n",
      "Iteration:  100\n",
      "[2 0 3 ... 0 3 7] [2 8 3 ... 8 5 5]\n",
      "accuracy: 0.6125609756097561\n",
      "Iteration:  110\n",
      "[6 5 3 ... 0 3 8] [2 8 3 ... 8 5 5]\n",
      "accuracy: 0.6386341463414634\n",
      "Iteration:  120\n",
      "[6 5 3 ... 0 3 8] [2 8 3 ... 8 5 5]\n",
      "accuracy: 0.6597317073170732\n",
      "Iteration:  130\n",
      "[6 5 3 ... 0 3 8] [2 8 3 ... 8 5 5]\n",
      "accuracy: 0.6781707317073171\n",
      "Iteration:  140\n",
      "[6 5 3 ... 0 3 8] [2 8 3 ... 8 5 5]\n",
      "accuracy: 0.6940487804878048\n",
      "Iteration:  150\n",
      "[2 5 3 ... 0 3 8] [2 8 3 ... 8 5 5]\n",
      "accuracy: 0.7080487804878048\n",
      "Iteration:  160\n",
      "[2 5 3 ... 0 3 5] [2 8 3 ... 8 5 5]\n",
      "accuracy: 0.7214634146341463\n",
      "Iteration:  170\n",
      "[2 5 3 ... 0 3 5] [2 8 3 ... 8 5 5]\n",
      "accuracy: 0.7330975609756097\n",
      "Iteration:  180\n",
      "[2 5 3 ... 0 3 5] [2 8 3 ... 8 5 5]\n",
      "accuracy: 0.7433658536585366\n",
      "Iteration:  190\n",
      "[2 5 3 ... 0 3 5] [2 8 3 ... 8 5 5]\n",
      "accuracy: 0.7533414634146341\n",
      "Iteration:  200\n",
      "[2 5 3 ... 0 3 5] [2 8 3 ... 8 5 5]\n",
      "accuracy: 0.7626341463414634\n",
      "Iteration:  210\n",
      "[2 5 3 ... 8 3 5] [2 8 3 ... 8 5 5]\n",
      "accuracy: 0.7701219512195122\n",
      "Iteration:  220\n",
      "[2 8 3 ... 8 3 5] [2 8 3 ... 8 5 5]\n",
      "accuracy: 0.7769512195121951\n",
      "Iteration:  230\n",
      "[2 8 3 ... 8 3 5] [2 8 3 ... 8 5 5]\n",
      "accuracy: 0.7829024390243903\n",
      "Iteration:  240\n",
      "[2 8 3 ... 8 3 5] [2 8 3 ... 8 5 5]\n",
      "accuracy: 0.7890975609756098\n",
      "Iteration:  250\n",
      "[2 8 3 ... 8 3 5] [2 8 3 ... 8 5 5]\n",
      "accuracy: 0.7935853658536586\n",
      "Iteration:  260\n",
      "[2 8 3 ... 8 3 5] [2 8 3 ... 8 5 5]\n",
      "accuracy: 0.7975365853658537\n",
      "Iteration:  270\n",
      "[2 8 3 ... 8 3 5] [2 8 3 ... 8 5 5]\n",
      "accuracy: 0.8015853658536586\n",
      "Iteration:  280\n",
      "[2 8 3 ... 8 3 5] [2 8 3 ... 8 5 5]\n",
      "accuracy: 0.8055609756097561\n",
      "Iteration:  290\n",
      "[2 8 3 ... 8 3 5] [2 8 3 ... 8 5 5]\n",
      "accuracy: 0.8092439024390244\n",
      "Iteration:  300\n",
      "[2 8 3 ... 8 3 5] [2 8 3 ... 8 5 5]\n",
      "accuracy: 0.812780487804878\n",
      "Iteration:  310\n",
      "[2 8 3 ... 8 3 5] [2 8 3 ... 8 5 5]\n",
      "accuracy: 0.8158048780487804\n",
      "Iteration:  320\n",
      "[2 8 3 ... 8 3 5] [2 8 3 ... 8 5 5]\n",
      "accuracy: 0.8188536585365853\n",
      "Iteration:  330\n",
      "[2 8 3 ... 8 3 5] [2 8 3 ... 8 5 5]\n",
      "accuracy: 0.8214390243902439\n",
      "Iteration:  340\n",
      "[2 8 3 ... 8 3 5] [2 8 3 ... 8 5 5]\n",
      "accuracy: 0.8240243902439024\n",
      "Iteration:  350\n",
      "[2 8 3 ... 8 3 5] [2 8 3 ... 8 5 5]\n",
      "accuracy: 0.8264878048780487\n",
      "Iteration:  360\n",
      "[2 8 3 ... 8 3 5] [2 8 3 ... 8 5 5]\n",
      "accuracy: 0.8289024390243902\n",
      "Iteration:  370\n",
      "[2 8 3 ... 8 3 5] [2 8 3 ... 8 5 5]\n",
      "accuracy: 0.8307317073170731\n",
      "Iteration:  380\n",
      "[2 8 3 ... 8 3 5] [2 8 3 ... 8 5 5]\n",
      "accuracy: 0.8328780487804878\n",
      "Iteration:  390\n",
      "[2 8 3 ... 8 3 5] [2 8 3 ... 8 5 5]\n",
      "accuracy: 0.8346585365853658\n",
      "Iteration:  400\n",
      "[2 8 3 ... 8 3 5] [2 8 3 ... 8 5 5]\n",
      "accuracy: 0.8365365853658536\n",
      "Iteration:  410\n",
      "[2 8 3 ... 8 3 5] [2 8 3 ... 8 5 5]\n",
      "accuracy: 0.838170731707317\n",
      "Iteration:  420\n",
      "[2 8 3 ... 8 3 5] [2 8 3 ... 8 5 5]\n",
      "accuracy: 0.8399268292682927\n",
      "Iteration:  430\n",
      "[2 8 3 ... 8 3 5] [2 8 3 ... 8 5 5]\n",
      "accuracy: 0.8413658536585366\n",
      "Iteration:  440\n",
      "[2 8 3 ... 8 3 5] [2 8 3 ... 8 5 5]\n",
      "accuracy: 0.8426829268292683\n",
      "Iteration:  450\n",
      "[2 8 3 ... 8 3 5] [2 8 3 ... 8 5 5]\n",
      "accuracy: 0.8443170731707317\n",
      "Iteration:  460\n",
      "[2 8 3 ... 8 3 5] [2 8 3 ... 8 5 5]\n",
      "accuracy: 0.8455853658536585\n",
      "Iteration:  470\n",
      "[2 8 3 ... 8 3 5] [2 8 3 ... 8 5 5]\n",
      "accuracy: 0.8466341463414634\n",
      "Iteration:  480\n",
      "[2 8 3 ... 8 3 5] [2 8 3 ... 8 5 5]\n",
      "accuracy: 0.8482926829268292\n",
      "Iteration:  490\n",
      "[2 8 3 ... 8 3 5] [2 8 3 ... 8 5 5]\n",
      "accuracy: 0.8497317073170731\n"
     ]
    }
   ],
   "source": [
    "W1, b1, W2, b2 = gradient_descent(X_train, Y_train, 0.10, 500)"
   ]
  },
  {
   "cell_type": "code",
   "execution_count": 9,
   "id": "21d02441",
   "metadata": {
    "execution": {
     "iopub.execute_input": "2023-11-12T23:57:43.696676Z",
     "iopub.status.busy": "2023-11-12T23:57:43.696313Z",
     "iopub.status.idle": "2023-11-12T23:57:43.704830Z",
     "shell.execute_reply": "2023-11-12T23:57:43.704124Z"
    },
    "papermill": {
     "duration": 0.020142,
     "end_time": "2023-11-12T23:57:43.707301",
     "exception": false,
     "start_time": "2023-11-12T23:57:43.687159",
     "status": "completed"
    },
    "tags": []
   },
   "outputs": [],
   "source": [
    "def make_predictions(X, W1, b1, W2, b2):\n",
    "    _, _, _, A2 = forward_prop(W1, b1, W2, b2, X)\n",
    "    predictions = get_predictions(A2)\n",
    "    return predictions\n",
    "\n",
    "def test_prediction(index, W1, b1, W2, b2):\n",
    "    current_image = X_train[:, index, None]\n",
    "    prediction = make_predictions(X_train[:, index, None], W1, b1, W2, b2)\n",
    "    label = Y_train[index]\n",
    "    print(\"Prediction: \", prediction)\n",
    "    print(\"Label: \", label)\n",
    "    \n",
    "    current_image = current_image.reshape((28, 28)) * 255\n",
    "    plt.gray()\n",
    "    plt.imshow(current_image, interpolation='nearest')\n",
    "    plt.show()"
   ]
  },
  {
   "cell_type": "code",
   "execution_count": 10,
   "id": "8deef551",
   "metadata": {
    "execution": {
     "iopub.execute_input": "2023-11-12T23:57:43.724922Z",
     "iopub.status.busy": "2023-11-12T23:57:43.724584Z",
     "iopub.status.idle": "2023-11-12T23:57:44.307523Z",
     "shell.execute_reply": "2023-11-12T23:57:44.306568Z"
    },
    "papermill": {
     "duration": 0.593805,
     "end_time": "2023-11-12T23:57:44.309431",
     "exception": false,
     "start_time": "2023-11-12T23:57:43.715626",
     "status": "completed"
    },
    "tags": []
   },
   "outputs": [
    {
     "name": "stdout",
     "output_type": "stream",
     "text": [
      "Prediction:  [2]\n",
      "Label:  2\n"
     ]
    },
    {
     "data": {
      "image/png": "[encoded data removed]",
      "text/plain": [
       "<Figure size 640x480 with 1 Axes>"
      ]
     },
     "metadata": {},
     "output_type": "display_data"
    },
    {
     "name": "stdout",
     "output_type": "stream",
     "text": [
      "Prediction:  [8]\n",
      "Label:  8\n"
     ]
    },
    {
     "data": {
      "image/png": "[encoded data removed]",
      "text/plain": [
       "<Figure size 640x480 with 1 Axes>"
      ]
     },
     "metadata": {},
     "output_type": "display_data"
    },
    {
     "name": "stdout",
     "output_type": "stream",
     "text": [
      "Prediction:  [3]\n",
      "Label:  3\n"
     ]
    },
    {
     "data": {
      "image/png": "[encoded data removed]",
      "text/plain": [
       "<Figure size 640x480 with 1 Axes>"
      ]
     },
     "metadata": {},
     "output_type": "display_data"
    },
    {
     "name": "stdout",
     "output_type": "stream",
     "text": [
      "Prediction:  [0]\n",
      "Label:  0\n"
     ]
    },
    {
     "data": {
      "image/png": "[encoded data removed]",
      "text/plain": [
       "<Figure size 640x480 with 1 Axes>"
      ]
     },
     "metadata": {},
     "output_type": "display_data"
    }
   ],
   "source": [
    "test_prediction(0,W1,b1,W2,b2)\n",
    "test_prediction(1,W1,b1,W2,b2)\n",
    "test_prediction(2,W1,b1,W2,b2)\n",
    "test_prediction(3,W1,b1,W2,b2)"
   ]
  },
  {
   "cell_type": "code",
   "execution_count": 11,
   "id": "8a9679f8",
   "metadata": {
    "execution": {
     "iopub.execute_input": "2023-11-12T23:57:44.327488Z",
     "iopub.status.busy": "2023-11-12T23:57:44.325725Z",
     "iopub.status.idle": "2023-11-12T23:57:44.343924Z",
     "shell.execute_reply": "2023-11-12T23:57:44.342843Z"
    },
    "papermill": {
     "duration": 0.031061,
     "end_time": "2023-11-12T23:57:44.348120",
     "exception": false,
     "start_time": "2023-11-12T23:57:44.317059",
     "status": "completed"
    },
    "tags": []
   },
   "outputs": [
    {
     "name": "stdout",
     "output_type": "stream",
     "text": [
      "[0 8 6 6 2 3 8 5 7 4 2 9 7 5 0 1 9 9 9 4 4 3 8 5 9 4 8 9 7 2 8 9 8 7 3 3 2\n",
      " 3 3 5 5 2 5 1 3 7 0 5 0 5 7 7 7 5 0 6 3 3 6 3 2 9 5 1 4 9 5 6 9 1 4 8 9 8\n",
      " 0 9 7 9 5 9 5 3 5 6 7 7 4 6 8 5 7 8 5 6 0 1 8 6 9 9 1 1 8 5 2 1 5 1 1 0 6\n",
      " 5 5 8 4 3 9 2 9 6 8 5 2 3 6 1 8 6 6 3 7 0 1 4 7 2 5 3 5 4 1 6 5 0 1 1 3 1\n",
      " 0 6 7 5 9 9 6 4 3 1 8 4 8 2 6 0 7 2 9 7 6 7 6 0 0 1 9 2 0 1 5 4 3 9 8 6 4\n",
      " 4 0 3 4 5 7 6 9 4 4 2 4 0 6 9 4 8 4 1 2 7 7 2 2 2 0 0 7 4 5 1 1 0 5 7 4 7\n",
      " 8 2 2 3 0 1 1 3 6 3 5 0 0 8 9 0 2 3 4 4 0 7 5 4 9 3 4 8 7 8 4 0 3 4 3 6 8\n",
      " 5 0 9 7 3 3 9 1 6 7 1 6 3 1 8 5 5 8 2 5 2 6 6 0 2 6 3 3 7 9 5 2 3 9 5 1 4\n",
      " 8 9 9 0 1 4 9 2 6 2 6 0 3 5 9 7 6 3 6 3 0 9 4 6 8 8 2 3 4 9 7 5 1 1 4 9 0\n",
      " 9 4 5 9 5 6 9 0 5 0 1 4 7 1 0 1 7 1 1 3 5 2 9 1 7 4 3 1 7 7 1 2 4 0 7 9 6\n",
      " 0 1 8 5 0 7 8 7 6 6 8 7 9 4 4 9 7 0 9 0 6 2 0 3 4 0 1 2 0 1 8 8 1 1 1 0 6\n",
      " 7 2 4 2 5 1 2 7 0 0 6 6 3 0 7 7 8 8 3 3 9 1 5 3 4 2 1 2 9 2 1 2 5 5 8 7 1\n",
      " 4 6 2 9 7 7 0 6 8 2 2 1 8 8 1 9 6 9 2 7 1 8 3 6 1 7 6 9 7 3 2 6 7 8 4 9 5\n",
      " 6 2 1 5 7 9 0 2 6 0 7 6 9 0 0 6 3 5 3 8 5 1 2 5 7 2 3 7 4 7 0 0 9 2 5 9 9\n",
      " 5 5 6 7 7 1 4 4 3 1 8 0 9 5 9 7 7 3 1 2 5 3 2 2 8 3 1 2 8 9 3 9 1 1 0 3 4\n",
      " 5 8 5 0 1 2 1 7 8 2 5 6 6 5 9 3 1 1 7 6 6 3 0 2 6 5 4 5 3 4 7 0 7 3 9 3 3\n",
      " 4 5 1 0 6 0 2 5 8 0 7 3 0 2 2 5 6 3 6 9 1 8 3 1 6 0 3 2 3 8 0 8 9 6 7 4 4\n",
      " 9 1 3 2 6 3 4 6 3 1 4 9 1 4 5 6 6 0 0 1 1 9 2 3 4 7 2 3 3 5 1 7 6 0 5 4 4\n",
      " 2 2 8 9 4 3 0 3 0 2 4 1 9 1 3 5 0 8 5 1 1 0 7 8 3 1 8 4 7 2 1 5 4 0 3 5 0\n",
      " 6 6 0 7 2 9 4 5 2 5 2 3 7 6 8 3 6 3 0 7 9 3 7 1 4 1 1 1 0 0 6 5 2 2 2 7 2\n",
      " 8 1 5 7 9 6 0 6 6 3 3 0 5 1 0 1 9 2 2 5 5 8 2 8 1 3 7 4 4 6 3 3 4 8 8 1 9\n",
      " 4 3 3 1 8 7 2 8 8 6 5 6 2 8 3 4 8 4 4 9 1 6 8 5 5 9 4 1 7 6 1 2 0 7 3 2 9\n",
      " 5 9 9 6 7 1 6 9 7 3 7 0 0 1 0 9 8 1 3 8 4 9 0 4 1 8 1 1 1 4 6 7 6 9 2 7 6\n",
      " 5 0 6 0 6 6 7 7 2 5 8 7 3 3 5 8 2 6 2 3 0 6 6 5 5 7 5 9 2 1 3 1 6 0 3 4 4\n",
      " 4 5 4 1 6 8 2 6 6 8 7 1 0 9 4 8 9 9 0 6 5 7 6 6 5 1 4 7 7 2 8 3 5 4 8 8 8\n",
      " 3 6 8 6 1 0 3 8 3 9 6 4 2 7 8 6 0 4 3 4 1 7 5 6 8 1 6 2 5 3 2 9 5 1 2 9 4\n",
      " 3 2 7 7 8 5 7 0 9 7 0 6 4 4 0 8 5 8 6 3 5 0 5 5 1 3 4 1 1 4 3 8 6 9 9 6 0\n",
      " 7] [0 8 6 7 3 3 8 5 7 4 2 3 7 5 0 1 9 7 7 4 4 3 8 3 9 4 5 9 7 2 8 4 8 7 8 3 5\n",
      " 3 3 5 3 2 5 1 3 7 0 5 0 5 7 7 7 5 0 6 3 3 8 3 2 8 5 1 4 9 5 6 7 1 4 8 9 8\n",
      " 0 9 7 9 5 9 7 3 5 6 7 7 4 6 8 5 7 8 0 0 0 1 8 6 9 9 1 1 8 5 2 1 5 1 1 0 6\n",
      " 3 0 8 4 3 4 2 9 6 8 5 2 3 6 1 8 6 6 8 7 0 1 4 7 2 5 3 5 4 1 6 7 0 1 1 3 9\n",
      " 0 6 7 5 9 9 7 4 3 1 8 8 8 2 6 0 7 2 9 7 6 7 6 0 0 1 8 2 0 1 8 4 3 4 4 6 4\n",
      " 4 0 3 4 5 7 6 9 4 4 2 4 0 6 9 4 8 5 1 1 7 7 2 2 2 0 0 7 5 5 1 1 0 5 7 4 7\n",
      " 8 2 2 3 0 1 1 3 6 3 5 0 0 8 4 0 2 3 4 4 0 7 5 4 7 8 4 2 7 8 4 0 5 4 3 6 8\n",
      " 3 0 9 2 3 3 9 1 6 7 1 8 3 1 8 6 5 8 2 8 2 5 0 0 1 6 3 8 7 9 5 2 3 4 5 1 4\n",
      " 3 9 1 0 1 4 7 8 6 6 6 0 3 5 9 7 6 3 6 3 0 9 9 2 8 8 2 3 4 9 7 6 1 1 4 9 0\n",
      " 9 4 5 1 5 6 9 0 5 0 1 4 7 1 0 1 7 1 1 3 8 2 9 1 7 4 3 1 7 7 1 2 9 0 9 9 6\n",
      " 0 1 8 5 0 7 8 7 6 6 8 7 9 4 4 9 7 0 9 0 6 6 0 3 4 0 1 2 0 1 8 8 1 1 1 0 6\n",
      " 7 2 4 2 5 1 2 7 0 0 6 6 8 0 7 7 8 2 9 3 9 1 8 3 4 2 1 2 9 2 1 2 5 5 8 7 9\n",
      " 4 2 2 9 7 7 8 6 8 2 2 3 8 8 1 3 6 9 2 7 1 8 3 6 1 7 6 7 7 3 2 4 7 8 4 9 5\n",
      " 6 2 1 5 7 9 0 2 6 0 7 4 4 3 0 6 3 5 3 8 5 1 2 5 7 2 3 7 4 7 0 5 9 7 0 9 9\n",
      " 5 3 6 7 7 1 4 4 3 1 4 0 9 3 9 7 7 3 1 2 6 3 2 2 8 8 1 2 1 9 3 9 1 1 0 3 4\n",
      " 5 8 5 0 1 2 1 9 2 2 5 6 6 3 7 3 1 9 7 6 6 3 0 2 8 5 4 5 3 4 7 0 7 8 4 3 3\n",
      " 4 9 1 0 6 0 2 5 8 0 7 5 0 2 2 5 6 5 6 9 1 8 3 1 6 0 3 2 3 4 0 8 9 6 7 4 5\n",
      " 9 1 3 2 5 3 6 6 8 1 4 8 1 4 5 6 6 0 0 1 7 9 2 3 4 9 3 3 3 5 1 7 6 0 5 4 4\n",
      " 2 2 0 9 4 3 0 3 0 2 4 1 4 1 3 5 5 9 5 1 1 0 7 8 3 1 8 4 7 2 1 5 4 0 3 5 0\n",
      " 6 6 0 7 2 9 4 5 2 5 2 2 7 6 8 3 6 5 0 7 9 8 7 5 4 1 1 1 0 0 6 5 2 2 9 7 2\n",
      " 1 1 5 7 9 6 0 6 6 3 3 0 5 1 0 1 9 2 2 5 5 8 2 8 1 3 7 6 5 6 3 3 9 5 8 1 7\n",
      " 4 3 3 1 8 7 2 8 9 6 1 5 2 8 3 8 8 4 4 9 1 6 8 5 5 9 4 1 7 6 1 2 2 7 3 2 9\n",
      " 8 4 9 6 7 1 6 9 7 7 7 0 0 1 0 4 8 1 3 8 8 9 0 4 1 8 1 1 1 4 6 9 6 9 2 7 6\n",
      " 5 0 6 0 6 6 7 9 2 5 8 7 3 2 5 5 2 6 2 5 0 6 6 5 5 7 5 9 2 1 3 1 6 0 3 4 4\n",
      " 4 5 4 1 6 8 2 6 6 8 7 1 0 9 4 8 9 9 3 6 5 7 6 6 5 1 0 2 7 2 6 3 5 4 8 8 8\n",
      " 7 6 8 6 8 0 3 8 3 9 6 9 2 7 8 6 0 7 3 4 1 7 5 6 8 1 6 2 5 3 6 7 5 1 2 9 4\n",
      " 3 6 7 7 8 5 7 0 9 9 0 6 2 4 0 8 9 8 6 3 5 0 5 8 9 8 4 1 1 4 3 8 6 9 3 6 0\n",
      " 2]\n"
     ]
    },
    {
     "data": {
      "text/plain": [
       "0.848"
      ]
     },
     "execution_count": 11,
     "metadata": {},
     "output_type": "execute_result"
    }
   ],
   "source": [
    "dev_predictions = make_predictions(X_dev,W1,b1,W2,b2)\n",
    "get_accuracy(dev_predictions, Y_dev)"
   ]
  },
  {
   "cell_type": "code",
   "execution_count": null,
   "id": "f77c2afb",
   "metadata": {
    "papermill": {
     "duration": 0.009556,
     "end_time": "2023-11-12T23:57:44.367476",
     "exception": false,
     "start_time": "2023-11-12T23:57:44.357920",
     "status": "completed"
    },
    "tags": []
   },
   "outputs": [],
   "source": []
  }
 ],
 "metadata": {
  "kernelspec": {
   "display_name": "Python 3",
   "language": "python",
   "name": "python3"
  },
  "language_info": {
   "codemirror_mode": {
    "name": "ipython",
    "version": 3
   },
   "file_extension": ".py",
   "mimetype": "text/x-python",
   "name": "python",
   "nbconvert_exporter": "python",
   "pygments_lexer": "ipython3",
   "version": "3.10.12"
  },
  "papermill": {
   "default_parameters": {},
   "duration": 42.206784,
   "end_time": "2023-11-12T23:57:44.796485",
   "environment_variables": {},
   "exception": null,
   "input_path": "__notebook__.ipynb",
   "output_path": "__notebook__.ipynb",
   "parameters": {},
   "start_time": "2023-11-12T23:57:02.589701",
   "version": "2.4.0"
  }
 },
 "nbformat": 4,
 "nbformat_minor": 5
}
